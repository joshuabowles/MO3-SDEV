{
 "cells": [
  {
   "cell_type": "code",
   "execution_count": 3,
   "id": "e99058e6",
   "metadata": {},
   "outputs": [
    {
     "name": "stdout",
     "output_type": "stream",
     "text": [
      "Enter type of vehicle: car\n",
      "Enter vehicle year: 2022\n",
      "Enter vehicle make: toyota\n",
      "Enter vehicle model: corolla\n",
      "Enter number of doors: 4\n",
      "Enter if sun roof or not: sun roof\n",
      "Vehicle type:car\n",
      "Year: 2022\n",
      "Make: toyota\n",
      "Model: corolla\n",
      "Number of doors (2 or 4): 4\n",
      "Type of roof: sun roof\n"
     ]
    }
   ],
   "source": [
    "# Author: Joshua Bowles\n",
    "# File Name: Lab Utilizing Classes\n",
    "# This application will ask a user for data and then store data in attributes \n",
    "# Attributes will then be output to screen using parent class blueprint\n",
    "class Vehicle:\n",
    "    def __init__(self, carType):\n",
    "        self.type = carType        \n",
    "        \n",
    "class AutoMobile:\n",
    "    def __init__(self, carType, year, make, model, doors, roof):\n",
    "        self.carType = carType\n",
    "        self.year = year\n",
    "        self.make = make\n",
    "        self.model = model\n",
    "        self.doors = doors\n",
    "        self.roof = roof\n",
    "        \n",
    "type_Auto = input(\"Enter type of vehicle: \") \n",
    "year_Auto = input(\"Enter vehicle year: \")\n",
    "make_Auto = input(\"Enter vehicle make: \")\n",
    "model_Auto = input(\"Enter vehicle model: \")\n",
    "doors_Auto = input(\"Enter number of doors: \")\n",
    "roof_Auto = input(\"Enter if sun roof or not: \")\n",
    "Auto = AutoMobile(type_Auto, year_Auto, make_Auto, model_Auto, doors_Auto, roof_Auto) \n",
    "        \n",
    "print(\"Vehicle type:\" + Auto.carType)        \n",
    "print(\"Year: \" + Auto.year)\n",
    "print(\"Make: \" + Auto.make)\n",
    "print(\"Model: \" + Auto.model)\n",
    "print(\"Number of doors (2 or 4): \" + Auto.doors)\n",
    "print(\"Type of roof: \" + Auto.roof)"
   ]
  },
  {
   "cell_type": "code",
   "execution_count": null,
   "id": "9becbd84",
   "metadata": {},
   "outputs": [],
   "source": []
  }
 ],
 "metadata": {
  "kernelspec": {
   "display_name": "Python 3 (ipykernel)",
   "language": "python",
   "name": "python3"
  },
  "language_info": {
   "codemirror_mode": {
    "name": "ipython",
    "version": 3
   },
   "file_extension": ".py",
   "mimetype": "text/x-python",
   "name": "python",
   "nbconvert_exporter": "python",
   "pygments_lexer": "ipython3",
   "version": "3.9.12"
  }
 },
 "nbformat": 4,
 "nbformat_minor": 5
}
