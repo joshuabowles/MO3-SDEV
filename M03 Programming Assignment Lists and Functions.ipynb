{
 "cells": [
  {
   "cell_type": "code",
   "execution_count": 4,
   "id": "f30bfb78",
   "metadata": {},
   "outputs": [
    {
     "name": "stdout",
     "output_type": "stream",
     "text": [
      "['MOZZARELLA', 'Cinderella']\n"
     ]
    }
   ],
   "source": [
    "things = [\"MOZZARELLA\", \"Cinderella\"] #7.5 the element in the list was changed\n",
    "print(things)\n",
    "\n"
   ]
  },
  {
   "cell_type": "code",
   "execution_count": 20,
   "id": "682498a9",
   "metadata": {},
   "outputs": [],
   "source": [
    "def good():\n",
    "    return ['Harry', 'Ron', 'Hermione']\n",
    "    \n",
    "    print(good())"
   ]
  },
  {
   "cell_type": "code",
   "execution_count": 11,
   "id": "fa1495fe",
   "metadata": {},
   "outputs": [],
   "source": [
    "limit = 10\n",
    "\n",
    "get_odds = (num for num in range(10) if not num % 2 == 0)\n",
    "\n",
    "\n",
    "count = 0\n",
    "\n",
    "for num in range(10):\n",
    "    if count == 2:\n",
    "        print(num)\n",
    "        break\n",
    "        count += 1\n",
    "\n",
    "for number in range(10):\n",
    "    if count == 3:\n",
    "        print(\"The third odd number is: \" + number)\n",
    "        break\n",
    "        count += 1\n",
    "        "
   ]
  },
  {
   "cell_type": "code",
   "execution_count": 39,
   "id": "7cc029bf",
   "metadata": {},
   "outputs": [
    {
     "name": "stdout",
     "output_type": "stream",
     "text": [
      "1\n",
      "The third odd number is: 3\n"
     ]
    }
   ],
   "source": [
    "def get_odds():\n",
    "    return (num for num in range(10) if num % 2 != 0)\n",
    "for num in get_odds():\n",
    "    if num == 3:\n",
    "        print(\"The third odd number is: \" + str(num))\n",
    "        break\n",
    "    print(num)\n"
   ]
  }
 ],
 "metadata": {
  "kernelspec": {
   "display_name": "Python 3 (ipykernel)",
   "language": "python",
   "name": "python3"
  },
  "language_info": {
   "codemirror_mode": {
    "name": "ipython",
    "version": 3
   },
   "file_extension": ".py",
   "mimetype": "text/x-python",
   "name": "python",
   "nbconvert_exporter": "python",
   "pygments_lexer": "ipython3",
   "version": "3.9.12"
  }
 },
 "nbformat": 4,
 "nbformat_minor": 5
}
